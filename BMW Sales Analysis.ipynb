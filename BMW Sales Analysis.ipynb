{
 "cells": [
  {
   "cell_type": "markdown",
   "id": "1f980ae1-a451-42a7-8501-e0c9d14f60ff",
   "metadata": {},
   "source": [
    "BMW Car Sales Analysis "
   ]
  },
  {
   "cell_type": "code",
   "execution_count": 3,
   "id": "b23e0dce-8cb0-4bbf-9771-c1e8d063e811",
   "metadata": {},
   "outputs": [],
   "source": [
    "# import necessary libraries\n",
    "import pandas as pd\n",
    "import matplotlib.pyplot as plt\n",
    "import seaborn as sns\n",
    "from sklearn.preprocessing import LabelEncoder"
   ]
  },
  {
   "cell_type": "code",
   "execution_count": null,
   "id": "ca35dc75-5825-43dc-8d9c-3546e9caa89e",
   "metadata": {},
   "outputs": [],
   "source": []
  }
 ],
 "metadata": {
  "kernelspec": {
   "display_name": "Python 3 (ipykernel)",
   "language": "python",
   "name": "python3"
  },
  "language_info": {
   "codemirror_mode": {
    "name": "ipython",
    "version": 3
   },
   "file_extension": ".py",
   "mimetype": "text/x-python",
   "name": "python",
   "nbconvert_exporter": "python",
   "pygments_lexer": "ipython3",
   "version": "3.12.4"
  }
 },
 "nbformat": 4,
 "nbformat_minor": 5
}
